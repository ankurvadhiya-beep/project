{
 "cells": [
  {
   "cell_type": "code",
   "execution_count": 4,
   "id": "383f79f8-b599-42ac-b366-b32978748941",
   "metadata": {},
   "outputs": [
    {
     "name": "stdout",
     "output_type": "stream",
     "text": [
      "Second fruit: Banana\n",
      "Last fruit: Grapes\n",
      "Updated fruits list: ['Orange', 'Mango', 'Grapes', 'Cherry', 'Banana']\n"
     ]
    }
   ],
   "source": [
    "# Q.1\n",
    "fruits = [\"Apple\", \"Banana\", \"Cherry\", \"Orange\", \"Grapes\"]\n",
    "print(\"Second fruit:\", fruits[1])\n",
    "print(\"Last fruit:\", fruits[-1])\n",
    "\n",
    "fruits.append(\"Mango\")\n",
    "fruits.pop(0)  \n",
    "fruits.sort()\n",
    "fruits.reverse()\n",
    "print(\"Updated fruits list:\", fruits)\n"
   ]
  },
  {
   "cell_type": "code",
   "execution_count": 3,
   "id": "a22036d0-d624-4058-9cfe-d3219266e43a",
   "metadata": {},
   "outputs": [
    {
     "name": "stdout",
     "output_type": "stream",
     "text": [
      "Third item: 30\n"
     ]
    }
   ],
   "source": [
    "# Q.2\n",
    "numbers = (10, 20, 30, 40, 50)\n",
    "print(\"Third item:\", numbers[2])\n"
   ]
  },
  {
   "cell_type": "code",
   "execution_count": 2,
   "id": "94965d88-8c2a-47cd-8cde-b0a7d54dce79",
   "metadata": {},
   "outputs": [
    {
     "name": "stdout",
     "output_type": "stream",
     "text": [
      "Updated list: [10, 2, 3]\n"
     ]
    }
   ],
   "source": [
    "# Q.3\n",
    "list1 = [1, 2, 3]\n",
    "tuple1 = (1, 2, 3)\n",
    "\n",
    "list1[0] = 10\n",
    "print(\"Updated list:\", list1)\n"
   ]
  },
  {
   "cell_type": "code",
   "execution_count": 1,
   "id": "ae8dc206-2629-446d-9dbd-2ab578a47636",
   "metadata": {},
   "outputs": [
    {
     "name": "stdout",
     "output_type": "stream",
     "text": [
      "Squares: [1, 4, 9, 16, 25, 36, 49, 64, 81, 100]\n",
      "Even numbers: [2, 4, 6, 8, 10, 12, 14, 16, 18, 20]\n",
      "Lowercase words: ['hello', 'world', 'python']\n"
     ]
    }
   ],
   "source": [
    "# Q.4\n",
    "\n",
    "squares = [x**2 for x in range(1, 11)]\n",
    "print(\"Squares:\", squares)\n",
    "\n",
    "\n",
    "evens = [x for x in range(1, 21) if x % 2 == 0]\n",
    "print(\"Even numbers:\", evens)\n",
    "\n",
    "# Convert list to lowercase\n",
    "words = [\"hello\", \"WORLD\", \"PyThOn\"]\n",
    "lowercase_words = [word.lower() for word in words]\n",
    "print(\"Lowercase words:\", lowercase_words)"
   ]
  },
  {
   "cell_type": "code",
   "execution_count": null,
   "id": "124406b4-be05-462d-9f95-4870b9286138",
   "metadata": {},
   "outputs": [],
   "source": []
  }
 ],
 "metadata": {
  "kernelspec": {
   "display_name": "Python [conda env:base] *",
   "language": "python",
   "name": "conda-base-py"
  },
  "language_info": {
   "codemirror_mode": {
    "name": "ipython",
    "version": 3
   },
   "file_extension": ".py",
   "mimetype": "text/x-python",
   "name": "python",
   "nbconvert_exporter": "python",
   "pygments_lexer": "ipython3",
   "version": "3.13.5"
  }
 },
 "nbformat": 4,
 "nbformat_minor": 5
}
