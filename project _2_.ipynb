{
 "cells": [
  {
   "cell_type": "code",
   "execution_count": null,
   "id": "d278d731-79d9-4d63-84a6-117ec504494c",
   "metadata": {},
   "outputs": [],
   "source": [
    "# project 2\n"
   ]
  },
  {
   "cell_type": "code",
   "execution_count": null,
   "id": "965b758e-e88e-474c-bfb0-14bac4238f95",
   "metadata": {},
   "outputs": [],
   "source": []
  },
  {
   "cell_type": "code",
   "execution_count": 3,
   "id": "ca92f06b-d63c-4373-a00e-a87d3c5eedd8",
   "metadata": {},
   "outputs": [
    {
     "name": "stdout",
     "output_type": "stream",
     "text": [
      "1. Generate Pattern (Right-angled Triangle)\n",
      "2. Analyze Numbers (Odd/Even + Sum)\n",
      "3. Exit\n"
     ]
    },
    {
     "name": "stdin",
     "output_type": "stream",
     "text": [
      "Enter your choice (1-3):  1\n",
      "Enter number of rows for pattern:  7\n"
     ]
    },
    {
     "name": "stdout",
     "output_type": "stream",
     "text": [
      "* \n",
      "* * \n",
      "* * * \n",
      "* * * * \n",
      "* * * * * \n",
      "* * * * * * \n",
      "* * * * * * * \n",
      "1. Generate Pattern (Right-angled Triangle)\n",
      "2. Analyze Numbers (Odd/Even + Sum)\n",
      "3. Exit\n"
     ]
    },
    {
     "name": "stdin",
     "output_type": "stream",
     "text": [
      "Enter your choice (1-3):  2\n",
      "Enter start number:  13\n",
      "Enter end number:  19\n"
     ]
    },
    {
     "name": "stdout",
     "output_type": "stream",
     "text": [
      "13 is Odd\n",
      "14 is Even\n",
      "15 is Odd\n",
      "16 is Even\n",
      "17 is Odd\n",
      "18 is Even\n",
      "19 is Odd\n",
      "Sum of numbers: 112\n",
      "1. Generate Pattern (Right-angled Triangle)\n",
      "2. Analyze Numbers (Odd/Even + Sum)\n",
      "3. Exit\n"
     ]
    },
    {
     "name": "stdin",
     "output_type": "stream",
     "text": [
      "Enter your choice (1-3):  3\n"
     ]
    },
    {
     "name": "stdout",
     "output_type": "stream",
     "text": [
      "Exiting program. Goodbye!\n"
     ]
    }
   ],
   "source": [
    "while True:\n",
    "    print(\"1. Generate Pattern (Right-angled Triangle)\")\n",
    "    print(\"2. Analyze Numbers (Odd/Even + Sum)\")\n",
    "    print(\"3. Exit\")\n",
    "    \n",
    "    choice = int(input(\"Enter your choice (1-3): \"))\n",
    "\n",
    "    if choice == 1:\n",
    "        rows = int(input(\"Enter number of rows for pattern: \"))\n",
    "        for i in range(1, rows + 1):        \n",
    "            for j in range(1, i + 1):\n",
    "                print(\"*\", end=\" \")\n",
    "            print()\n",
    "\n",
    "    elif choice == 2:\n",
    "        start = int(input(\"Enter start number: \"))\n",
    "        end = int(input(\"Enter end number: \"))\n",
    "\n",
    "        total = 0\n",
    "        for n in range(start, end + 1):\n",
    "            if n == 0:\n",
    "                pass                         \n",
    "            elif n % 2 == 0:\n",
    "                print(n, \"is Even\")\n",
    "            else:\n",
    "                print(n, \"is Odd\")\n",
    "\n",
    "            total += n\n",
    "\n",
    "            if n > 50:                     \n",
    "                print(\"Number greater than 50 found, stopping early!\")\n",
    "                break\n",
    "\n",
    "            if n == 5:                     \n",
    "                print(\"Skipping number 5\")\n",
    "                continue\n",
    "\n",
    "        print(\"Sum of numbers:\", total)\n",
    "\n",
    "    elif choice == 3:\n",
    "        print(\"Exiting program. Goodbye!\")\n",
    "        break\n",
    "\n",
    "    else:\n",
    "        print(\"Invalid choice! Try again.\")"
   ]
  },
  {
   "cell_type": "code",
   "execution_count": null,
   "id": "0f297662-2caa-4905-8c53-8db0ffca8b31",
   "metadata": {},
   "outputs": [],
   "source": []
  }
 ],
 "metadata": {
  "kernelspec": {
   "display_name": "Python [conda env:base] *",
   "language": "python",
   "name": "conda-base-py"
  },
  "language_info": {
   "codemirror_mode": {
    "name": "ipython",
    "version": 3
   },
   "file_extension": ".py",
   "mimetype": "text/x-python",
   "name": "python",
   "nbconvert_exporter": "python",
   "pygments_lexer": "ipython3",
   "version": "3.13.5"
  }
 },
 "nbformat": 4,
 "nbformat_minor": 5
}
