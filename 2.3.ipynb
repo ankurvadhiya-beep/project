{
 "cells": [
  {
   "cell_type": "code",
   "execution_count": null,
   "id": "808d749e-fea1-4eec-9da3-ecb7db2d392a",
   "metadata": {},
   "outputs": [],
   "source": [
    "# code 1\n"
   ]
  },
  {
   "cell_type": "code",
   "execution_count": 1,
   "id": "3c41f95d-15f1-4237-9e83-f4388e4f6545",
   "metadata": {},
   "outputs": [
    {
     "name": "stdin",
     "output_type": "stream",
     "text": [
      "Enter a number (0 to stop):  1\n"
     ]
    },
    {
     "name": "stdout",
     "output_type": "stream",
     "text": [
      "You entered: 1\n"
     ]
    },
    {
     "name": "stdin",
     "output_type": "stream",
     "text": [
      "Enter a number (0 to stop):  0\n"
     ]
    },
    {
     "name": "stdout",
     "output_type": "stream",
     "text": [
      "You entered 0, program stopped.\n"
     ]
    }
   ],
   "source": [
    "num = int(input(\"Enter a number (0 to stop): \"))\n",
    "\n",
    "while num != 0:\n",
    "    print(\"You entered:\", num)\n",
    "    num = int(input(\"Enter a number (0 to stop): \"))\n",
    "print(\"You entered 0, program stopped.\")\n"
   ]
  },
  {
   "cell_type": "code",
   "execution_count": null,
   "id": "45c3e85f-98ce-41a4-aed6-7ca136084821",
   "metadata": {},
   "outputs": [],
   "source": []
  },
  {
   "cell_type": "code",
   "execution_count": null,
   "id": "57a831e1-45a8-4bda-95e0-7cbd19be1112",
   "metadata": {},
   "outputs": [],
   "source": [
    "# code 2\n"
   ]
  },
  {
   "cell_type": "code",
   "execution_count": 2,
   "id": "df4d2a42-705b-4b81-b672-ab26c63c1ccc",
   "metadata": {},
   "outputs": [
    {
     "name": "stdout",
     "output_type": "stream",
     "text": [
      "1\n",
      "4\n",
      "9\n",
      "16\n",
      "25\n",
      "36\n",
      "49\n",
      "64\n",
      "81\n",
      "100\n"
     ]
    }
   ],
   "source": [
    "number = range(1,11,1)\n",
    "\n",
    "for i in number:\n",
    "    print(i**2)\n",
    "    "
   ]
  },
  {
   "cell_type": "code",
   "execution_count": null,
   "id": "2be30633-f936-4052-857a-caef88218160",
   "metadata": {},
   "outputs": [],
   "source": []
  },
  {
   "cell_type": "code",
   "execution_count": null,
   "id": "8fc3d8ad-b0ba-45a9-aadc-169552bf5a57",
   "metadata": {},
   "outputs": [],
   "source": [
    "# code 3 \n"
   ]
  },
  {
   "cell_type": "code",
   "execution_count": 2,
   "id": "6aa3d5b9-bf25-41f5-acd6-388193969ba4",
   "metadata": {},
   "outputs": [
    {
     "name": "stdout",
     "output_type": "stream",
     "text": [
      "2\n",
      "4\n",
      "6\n",
      "8\n",
      "10\n",
      "12\n",
      "14\n",
      "16\n",
      "18\n",
      "20\n",
      "22\n",
      "24\n",
      "26\n",
      "28\n",
      "30\n",
      "32\n",
      "34\n",
      "36\n",
      "38\n",
      "40\n",
      "42\n",
      "44\n",
      "46\n",
      "48\n",
      "50\n"
     ]
    }
   ],
   "source": [
    "num = 1\n",
    "\n",
    "while num <= 50:\n",
    "    if num % 2 == 0:\n",
    "        print(num)\n",
    "    num = num + 1\n"
   ]
  },
  {
   "cell_type": "code",
   "execution_count": null,
   "id": "26463d7c-a1df-4fda-8f32-52b0a3549c31",
   "metadata": {},
   "outputs": [],
   "source": []
  },
  {
   "cell_type": "code",
   "execution_count": null,
   "id": "cca0ef09-df20-43c8-b42b-9bd1833a7e24",
   "metadata": {},
   "outputs": [],
   "source": [
    "# code 4\n"
   ]
  },
  {
   "cell_type": "code",
   "execution_count": 6,
   "id": "6121b38c-6459-4736-9338-d8fb737342cb",
   "metadata": {
    "scrolled": true
   },
   "outputs": [
    {
     "name": "stdout",
     "output_type": "stream",
     "text": [
      "2\n",
      "4\n",
      "6\n",
      "8\n",
      "10\n",
      "12\n",
      "14\n",
      "16\n",
      "18\n",
      "20\n"
     ]
    }
   ],
   "source": [
    "\n",
    "for i in range(1,21,1):\n",
    "    if i%2 == 0:\n",
    "        print(i)"
   ]
  },
  {
   "cell_type": "code",
   "execution_count": null,
   "id": "c8e8aada-30e0-4f66-b138-7f1c3c3f79d6",
   "metadata": {},
   "outputs": [],
   "source": []
  },
  {
   "cell_type": "code",
   "execution_count": null,
   "id": "65ef619a-a636-4c5d-aeae-1c27ff2fca32",
   "metadata": {},
   "outputs": [],
   "source": [
    "# code 5\n"
   ]
  },
  {
   "cell_type": "code",
   "execution_count": 7,
   "id": "4adc778c-8e02-4e63-a511-b3c3759d5cba",
   "metadata": {},
   "outputs": [
    {
     "name": "stdout",
     "output_type": "stream",
     "text": [
      "5\n",
      "10\n",
      "15\n",
      "20\n",
      "25\n",
      "30\n",
      "35\n",
      "40\n",
      "45\n",
      "50\n"
     ]
    }
   ],
   "source": [
    "for i in range(5,51,5):\n",
    "    print(i)"
   ]
  },
  {
   "cell_type": "code",
   "execution_count": null,
   "id": "ffd42cc6-0345-4b2a-9d10-f1fd7cb02d34",
   "metadata": {},
   "outputs": [],
   "source": []
  },
  {
   "cell_type": "code",
   "execution_count": null,
   "id": "c423af5b-c892-421a-a208-3636c451af94",
   "metadata": {},
   "outputs": [],
   "source": [
    "# code 6\n"
   ]
  },
  {
   "cell_type": "code",
   "execution_count": 8,
   "id": "0d1d0855-664e-4015-b5f4-a3c58336682c",
   "metadata": {},
   "outputs": [
    {
     "name": "stdout",
     "output_type": "stream",
     "text": [
      "10\n",
      "9\n",
      "8\n",
      "7\n",
      "6\n",
      "5\n",
      "4\n",
      "3\n",
      "2\n",
      "1\n"
     ]
    }
   ],
   "source": [
    "for i in range(10,0,-1):\n",
    "    print(i)"
   ]
  },
  {
   "cell_type": "code",
   "execution_count": null,
   "id": "8d9f16d3-1709-44fa-814e-2835846fd6b2",
   "metadata": {},
   "outputs": [],
   "source": []
  },
  {
   "cell_type": "code",
   "execution_count": null,
   "id": "0f7beac1-3487-41f3-b5a1-35c24ad94b9d",
   "metadata": {},
   "outputs": [],
   "source": [
    "# code 7\n"
   ]
  },
  {
   "cell_type": "code",
   "execution_count": null,
   "id": "2bd50cb3-161f-48b2-8ee7-069a97fdff4b",
   "metadata": {},
   "outputs": [],
   "source": []
  },
  {
   "cell_type": "code",
   "execution_count": null,
   "id": "20f48b7f-8ca5-4b99-811a-4ca603a54273",
   "metadata": {},
   "outputs": [],
   "source": []
  },
  {
   "cell_type": "code",
   "execution_count": null,
   "id": "1af4ab8d-dda7-40cd-b0c1-e1a2d55270b1",
   "metadata": {},
   "outputs": [],
   "source": []
  }
 ],
 "metadata": {
  "kernelspec": {
   "display_name": "Python [conda env:base] *",
   "language": "python",
   "name": "conda-base-py"
  },
  "language_info": {
   "codemirror_mode": {
    "name": "ipython",
    "version": 3
   },
   "file_extension": ".py",
   "mimetype": "text/x-python",
   "name": "python",
   "nbconvert_exporter": "python",
   "pygments_lexer": "ipython3",
   "version": "3.13.5"
  }
 },
 "nbformat": 4,
 "nbformat_minor": 5
}
