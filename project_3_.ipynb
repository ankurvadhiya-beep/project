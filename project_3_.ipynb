{
 "cells": [
  {
   "cell_type": "code",
   "execution_count": null,
   "id": "e4c389dd-5f0b-4f6a-b646-13927acd3699",
   "metadata": {},
   "outputs": [],
   "source": [
    "# project 3 \n"
   ]
  },
  {
   "cell_type": "code",
   "execution_count": 5,
   "id": "70b6fc11-873c-426b-890b-951e1768c7f3",
   "metadata": {},
   "outputs": [
    {
     "name": "stdout",
     "output_type": "stream",
     "text": [
      "Welcome to Student Data Organizer\n",
      "This program manages student records.\n",
      "\n",
      "1. Add Student\n",
      "2. Display All Students\n",
      "3. Update Student Information\n",
      "4. Delete Student\n",
      "5. Display Subjects Offered\n",
      "6. Exit\n",
      "---------------------------------\n"
     ]
    },
    {
     "name": "stdin",
     "output_type": "stream",
     "text": [
      "Enter your choice:  1\n",
      "Enter student name:  Ankur \n",
      "Enter age:  20\n",
      "Enter grade:  A\n",
      "Enter subjects (comma separated):  economics \n",
      "Enter Student ID:  11855\n",
      "Enter Date of Birth (dd-mm-yyyy):  28-7-2005\n"
     ]
    },
    {
     "name": "stdout",
     "output_type": "stream",
     "text": [
      "Student added successfully!\n",
      "\n",
      "1. Add Student\n",
      "2. Display All Students\n",
      "3. Update Student Information\n",
      "4. Delete Student\n",
      "5. Display Subjects Offered\n",
      "6. Exit\n",
      "---------------------------------\n"
     ]
    },
    {
     "name": "stdin",
     "output_type": "stream",
     "text": [
      "Enter your choice:  2\n"
     ]
    },
    {
     "name": "stdout",
     "output_type": "stream",
     "text": [
      "\n",
      "All Students:\n",
      "ID: 11855 | Name: Ankur  | Age: 20 | Grade: A | Subjects: economics \n",
      "\n",
      "1. Add Student\n",
      "2. Display All Students\n",
      "3. Update Student Information\n",
      "4. Delete Student\n",
      "5. Display Subjects Offered\n",
      "6. Exit\n",
      "---------------------------------\n"
     ]
    },
    {
     "name": "stdin",
     "output_type": "stream",
     "text": [
      "Enter your choice:  3\n",
      "Enter Student ID to update:  11855\n"
     ]
    },
    {
     "name": "stdout",
     "output_type": "stream",
     "text": [
      "1. Update Name\n",
      "2. Update Age\n",
      "3. Update Grade\n",
      "4. Update Subjects\n"
     ]
    },
    {
     "name": "stdin",
     "output_type": "stream",
     "text": [
      "Enter choice:  4\n",
      "Enter new subjects (comma separated):  maths\n"
     ]
    },
    {
     "name": "stdout",
     "output_type": "stream",
     "text": [
      "Student updated successfully!\n",
      "\n",
      "1. Add Student\n",
      "2. Display All Students\n",
      "3. Update Student Information\n",
      "4. Delete Student\n",
      "5. Display Subjects Offered\n",
      "6. Exit\n",
      "---------------------------------\n"
     ]
    },
    {
     "name": "stdin",
     "output_type": "stream",
     "text": [
      "Enter your choice:  4\n",
      "Enter Student ID to delete:  11855\n"
     ]
    },
    {
     "name": "stdout",
     "output_type": "stream",
     "text": [
      "Student deleted successfully!\n",
      "\n",
      "1. Add Student\n",
      "2. Display All Students\n",
      "3. Update Student Information\n",
      "4. Delete Student\n",
      "5. Display Subjects Offered\n",
      "6. Exit\n",
      "---------------------------------\n"
     ]
    },
    {
     "name": "stdin",
     "output_type": "stream",
     "text": [
      "Enter your choice:  5\n"
     ]
    },
    {
     "name": "stdout",
     "output_type": "stream",
     "text": [
      "No subjects found.\n",
      "\n",
      "1. Add Student\n",
      "2. Display All Students\n",
      "3. Update Student Information\n",
      "4. Delete Student\n",
      "5. Display Subjects Offered\n",
      "6. Exit\n",
      "---------------------------------\n"
     ]
    },
    {
     "name": "stdin",
     "output_type": "stream",
     "text": [
      "Enter your choice:  6\n"
     ]
    },
    {
     "name": "stdout",
     "output_type": "stream",
     "text": [
      "Thank you for using Student Data Organizer. Goodbye!\n"
     ]
    }
   ],
   "source": [
    "print(\"Welcome to Student Data Organizer\")\n",
    "print(\"This program manages student records.\\n\")\n",
    "\n",
    "students = []   \n",
    "while True:\n",
    "    print(\"1. Add Student\")\n",
    "    print(\"2. Display All Students\")\n",
    "    print(\"3. Update Student Information\")\n",
    "    print(\"4. Delete Student\")\n",
    "    print(\"5. Display Subjects Offered\")\n",
    "    print(\"6. Exit\")\n",
    "    print(\"---------------------------------\")\n",
    "    choice = input(\"Enter your choice: \")\n",
    "\n",
    "    if choice == \"1\":\n",
    "\n",
    "        name = input(\"Enter student name: \")\n",
    "        age = int(input(\"Enter age: \"))  \n",
    "        grade = input(\"Enter grade: \")\n",
    "        subjects = input(\"Enter subjects (comma separated): \") \n",
    "        sid = input(\"Enter Student ID: \")\n",
    "        dob = input(\"Enter Date of Birth (dd-mm-yyyy): \")\n",
    "\n",
    "        id_dob = (sid, dob)  \n",
    "\n",
    "        student = {\n",
    "            \"name\": name,\n",
    "            \"age\": age,\n",
    "            \"grade\": grade,\n",
    "            \"subjects\": subjects,\n",
    "            \"id_dob\": id_dob\n",
    "        }\n",
    "        students.append(student)\n",
    "        print(\"Student added successfully!\\n\")\n",
    "\n",
    "    elif choice == \"2\":\n",
    "        if not students:\n",
    "            print(\"No student records found.\\n\")\n",
    "        else:\n",
    "            print(\"\\nAll Students:\")\n",
    "            for s in students:\n",
    "                print(f\"ID: {s['id_dob'][0]} | Name: {s['name']} | Age: {s['age']} | Grade: {s['grade']} | Subjects: {s['subjects']}\")\n",
    "            print()\n",
    "\n",
    "    elif choice == \"3\":\n",
    "        # Update Student\n",
    "        sid = input(\"Enter Student ID to update: \")\n",
    "        found = False\n",
    "        for s in students:\n",
    "            if s['id_dob'][0] == sid:\n",
    "                found = True\n",
    "                print(\"1. Update Name\")\n",
    "                print(\"2. Update Age\")\n",
    "                print(\"3. Update Grade\")\n",
    "                print(\"4. Update Subjects\")\n",
    "                c = input(\"Enter choice: \")\n",
    "                if c == \"1\":\n",
    "                    s['name'] = input(\"Enter new name: \")\n",
    "                elif c == \"2\":\n",
    "                    s['age'] = int(input(\"Enter new age: \"))\n",
    "                elif c == \"3\":\n",
    "                    s['grade'] = input(\"Enter new grade: \")\n",
    "                elif c == \"4\":\n",
    "                    s['subjects'] = input(\"Enter new subjects (comma separated): \")\n",
    "                print(\"Student updated successfully!\\n\")\n",
    "        if not found:\n",
    "            print(\"Student ID not found.\\n\")\n",
    "\n",
    "    elif choice == \"4\":\n",
    "        sid = input(\"Enter Student ID to delete: \")\n",
    "        for i, s in enumerate(students):\n",
    "            if s['id_dob'][0] == sid:\n",
    "                del students[i] \n",
    "                print(\"Student deleted successfully!\\n\")\n",
    "                break\n",
    "        else:\n",
    "            print(\"Student ID not found.\\n\")\n",
    "\n",
    "    elif choice == \"5\":\n",
    "        all_subjects = []\n",
    "        for s in students:\n",
    "            subs = s['subjects'].split(\",\")\n",
    "            for sub in subs:\n",
    "                sub = sub.strip()\n",
    "                if sub and sub not in all_subjects:\n",
    "                    all_subjects.append(sub)\n",
    "        if all_subjects:\n",
    "            print(\"All Unique Subjects Offered:\", \", \".join(all_subjects), \"\\n\")\n",
    "        else:\n",
    "            print(\"No subjects found.\\n\")\n",
    "\n",
    "    elif choice == \"6\":\n",
    "        print(\"Thank you for using Student Data Organizer. Goodbye!\")\n",
    "        break\n",
    "\n",
    "    else:\n",
    "        print(\"Invalid choice. Try again.\\n\")"
   ]
  },
  {
   "cell_type": "code",
   "execution_count": null,
   "id": "3e2ecc1b-370b-4dc4-b469-9e46d3249179",
   "metadata": {},
   "outputs": [],
   "source": []
  }
 ],
 "metadata": {
  "kernelspec": {
   "display_name": "Python [conda env:base] *",
   "language": "python",
   "name": "conda-base-py"
  },
  "language_info": {
   "codemirror_mode": {
    "name": "ipython",
    "version": 3
   },
   "file_extension": ".py",
   "mimetype": "text/x-python",
   "name": "python",
   "nbconvert_exporter": "python",
   "pygments_lexer": "ipython3",
   "version": "3.13.5"
  }
 },
 "nbformat": 4,
 "nbformat_minor": 5
}
