{
 "cells": [
  {
   "cell_type": "code",
   "execution_count": null,
   "id": "8f2368f8-555e-4398-9fef-f1dfcf85acd4",
   "metadata": {},
   "outputs": [],
   "source": [
    "# code 1"
   ]
  },
  {
   "cell_type": "code",
   "execution_count": 1,
   "id": "a02a071a-40a1-48d5-a39c-a53e29b8221d",
   "metadata": {},
   "outputs": [
    {
     "name": "stdout",
     "output_type": "stream",
     "text": [
      "Apple - Banana - Cherry\n",
      "This is first line & this is second line\n"
     ]
    }
   ],
   "source": [
    "# example of'sep'\n",
    "print(\"Apple\", \"Banana\", \"Cherry\", sep=\" - \")\n",
    "\n",
    "# example of 'end'\n",
    "print(\"This is first line\", end=\" & \")\n",
    "print(\"this is second line\")"
   ]
  },
  {
   "cell_type": "code",
   "execution_count": null,
   "id": "94f267e4-a6ed-4524-973b-504c52fd8de8",
   "metadata": {},
   "outputs": [],
   "source": [
    "# code 2"
   ]
  },
  {
   "cell_type": "code",
   "execution_count": 2,
   "id": "3c5d87cc-d64e-4804-a32e-05d08149ec9c",
   "metadata": {},
   "outputs": [
    {
     "name": "stdin",
     "output_type": "stream",
     "text": [
      "Enter your name:  ankur\n",
      "Enter your age:  20\n",
      "Enter your favourite hobby:  learning coding \n"
     ]
    },
    {
     "name": "stdout",
     "output_type": "stream",
     "text": [
      "Hello, ankur! At 20, enjoying learning coding  sounds fun!\n"
     ]
    }
   ],
   "source": [
    "# Inputs from user\n",
    "name = input(\"Enter your name: \")\n",
    "age = input(\"Enter your age: \")\n",
    "hobby = input(\"Enter your favourite hobby: \")\n",
    "\n",
    "print(\"Hello,\", name + \"! At\", age + \", enjoying\", hobby, \"sounds fun!\")\n"
   ]
  },
  {
   "cell_type": "code",
   "execution_count": null,
   "id": "c2f9132a-1ad0-49a7-bf93-959826a7d05c",
   "metadata": {},
   "outputs": [],
   "source": []
  },
  {
   "cell_type": "code",
   "execution_count": null,
   "id": "3026c3cb-39ec-4871-a038-310af2d71da6",
   "metadata": {},
   "outputs": [],
   "source": [
    "# code 3 "
   ]
  },
  {
   "cell_type": "code",
   "execution_count": 3,
   "id": "cf4432b2-9bb6-445c-905b-453ebea10b16",
   "metadata": {},
   "outputs": [
    {
     "name": "stdout",
     "output_type": "stream",
     "text": [
      "Addition: 30\n",
      "Subtraction: -10\n",
      "Multiplication: 200\n",
      "Division: 0.5\n",
      "Floor Division: 0\n",
      "Modulus: 10\n",
      "Exponentiation: 100000000000000000000\n"
     ]
    }
   ],
   "source": [
    "A = 10\n",
    "B = 20\n",
    "\n",
    "#operations\n",
    "print(\"Addition:\", A + B)\n",
    "print(\"Subtraction:\", A - B)\n",
    "print(\"Multiplication:\", A * B)\n",
    "print(\"Division:\", A / B)\n",
    "print(\"Floor Division:\", A // B)\n",
    "print(\"Modulus:\", A % B)\n",
    "print(\"Exponentiation:\", A ** B)\n"
   ]
  },
  {
   "cell_type": "code",
   "execution_count": null,
   "id": "acfe3e30-da04-4bda-be56-59758cc0e34a",
   "metadata": {},
   "outputs": [],
   "source": []
  },
  {
   "cell_type": "code",
   "execution_count": null,
   "id": "dd1be0bc-e6da-4719-9ce1-c396d5e19f82",
   "metadata": {},
   "outputs": [],
   "source": [
    "# code 4"
   ]
  },
  {
   "cell_type": "code",
   "execution_count": 6,
   "id": "92759c4c-abb7-47f5-a4bc-e26c1928be66",
   "metadata": {},
   "outputs": [
    {
     "name": "stdout",
     "output_type": "stream",
     "text": [
      "13 <class 'int'>\n",
      "5.5 <class 'float'>\n",
      "ankur <class 'str'>\n",
      "true <class 'bool'>\n",
      "4 + 1j <class 'complex'>\n",
      "None <class 'NoneType'>\n"
     ]
    }
   ],
   "source": [
    "# variables\n",
    "a = 13          # integer\n",
    "b = 5.5         # float\n",
    "c = \"ankur\"    # string\n",
    "d = True        # boolean\n",
    "e = 4 + 1j      # complex\n",
    "f = None        #none\n",
    "\n",
    "print(\"13\",type(a))\n",
    "print(\"5.5\",type(b))\n",
    "print(\"ankur\",type(c))\n",
    "print(\"true\",type(d))\n",
    "print(\"4 + 1j\",type(e))\n",
    "print(\"None\",type(f))"
   ]
  },
  {
   "cell_type": "code",
   "execution_count": null,
   "id": "67c969de-2812-410f-9f42-71eb1f890e22",
   "metadata": {},
   "outputs": [],
   "source": []
  },
  {
   "cell_type": "code",
   "execution_count": null,
   "id": "e6f1396d-9351-46ce-8feb-f664d24e3b95",
   "metadata": {},
   "outputs": [],
   "source": [
    "# code 5"
   ]
  },
  {
   "cell_type": "code",
   "execution_count": 7,
   "id": "41fd35cb-9cc6-46b1-898b-3bdb89d98ecd",
   "metadata": {},
   "outputs": [
    {
     "name": "stdin",
     "output_type": "stream",
     "text": [
      "Enter height in cm:  175\n",
      "Enter weight in kg:  90\n"
     ]
    },
    {
     "name": "stdout",
     "output_type": "stream",
     "text": [
      "Height: 175 Type: <class 'int'>\n",
      "Weight: 90 Type: <class 'int'>\n"
     ]
    }
   ],
   "source": [
    "# input from user\n",
    "height = int(input(\"Enter height in cm: \"))\n",
    "weight = int(input(\"Enter weight in kg: \"))\n",
    "\n",
    "# Displaying values with type\n",
    "print(\"Height:\", height, \"Type:\", type(height))\n",
    "print(\"Weight:\", weight, \"Type:\", type(weight))"
   ]
  },
  {
   "cell_type": "code",
   "execution_count": null,
   "id": "5a9941e3-bd8a-43ef-b7d8-e95a8e40f6ca",
   "metadata": {},
   "outputs": [],
   "source": []
  },
  {
   "cell_type": "code",
   "execution_count": null,
   "id": "c0f45411-ccbb-4764-8b01-e9cb86acb3bf",
   "metadata": {},
   "outputs": [],
   "source": [
    "# code 6"
   ]
  },
  {
   "cell_type": "code",
   "execution_count": 8,
   "id": "513cdd09-4485-4a21-90f8-62b02a7d85c3",
   "metadata": {},
   "outputs": [
    {
     "name": "stdin",
     "output_type": "stream",
     "text": [
      "Enter first value (True/False):  5\n",
      "Enter second value (True/False):  2\n"
     ]
    },
    {
     "name": "stdout",
     "output_type": "stream",
     "text": [
      "a and b: 2\n",
      "a or b: 5\n",
      "not a: False\n",
      "not b: False\n"
     ]
    }
   ],
   "source": [
    "# boolean inputs from user\n",
    "a = input(\"Enter first value (True/False): \")\n",
    "b = input(\"Enter second value (True/False): \")\n",
    "\n",
    "print(\"a and b:\", a and b)\n",
    "print(\"a or b:\", a or b)\n",
    "print(\"not a:\", not a)\n",
    "print(\"not b:\", not b)"
   ]
  },
  {
   "cell_type": "code",
   "execution_count": null,
   "id": "26c2fe85-b4ac-4fea-aeda-2244080babfd",
   "metadata": {},
   "outputs": [],
   "source": []
  },
  {
   "cell_type": "code",
   "execution_count": null,
   "id": "a48f3c58-3525-4ff6-92b7-50feaece5611",
   "metadata": {},
   "outputs": [],
   "source": [
    "# code 7"
   ]
  },
  {
   "cell_type": "code",
   "execution_count": 9,
   "id": "6854e484-ab21-4a2a-85ce-d399492a998d",
   "metadata": {},
   "outputs": [
    {
     "name": "stdin",
     "output_type": "stream",
     "text": [
      "Enter first value (True/False):  7\n",
      "Enter second value (True/False):  1\n"
     ]
    },
    {
     "name": "stdout",
     "output_type": "stream",
     "text": [
      "a and b: 1\n",
      "a or b: 7\n",
      "not a: False\n",
      "not b: False\n"
     ]
    }
   ],
   "source": [
    "# boolean inputs from user\n",
    "a = input(\"Enter first value (True/False): \")\n",
    "b = input(\"Enter second value (True/False): \")\n",
    "\n",
    "print(\"a and b:\", a and b)\n",
    "print(\"a or b:\", a or b)\n",
    "print(\"not a:\", not a)\n",
    "print(\"not b:\", not b)"
   ]
  },
  {
   "cell_type": "code",
   "execution_count": null,
   "id": "bddc019b-4674-4738-a1e7-9b62c2857178",
   "metadata": {},
   "outputs": [],
   "source": []
  },
  {
   "cell_type": "code",
   "execution_count": null,
   "id": "f617c75e-7f29-4581-92b0-e57f025d6a7f",
   "metadata": {},
   "outputs": [],
   "source": []
  },
  {
   "cell_type": "code",
   "execution_count": null,
   "id": "4962e12a-5db0-4de5-8489-8cd9af63af3f",
   "metadata": {},
   "outputs": [],
   "source": []
  },
  {
   "cell_type": "code",
   "execution_count": null,
   "id": "61514aa1-6d24-4813-918d-22b397554984",
   "metadata": {},
   "outputs": [],
   "source": []
  },
  {
   "cell_type": "code",
   "execution_count": null,
   "id": "82d6b4ba-800a-40da-a163-425c686fc4c6",
   "metadata": {},
   "outputs": [],
   "source": []
  }
 ],
 "metadata": {
  "kernelspec": {
   "display_name": "Python [conda env:base] *",
   "language": "python",
   "name": "conda-base-py"
  },
  "language_info": {
   "codemirror_mode": {
    "name": "ipython",
    "version": 3
   },
   "file_extension": ".py",
   "mimetype": "text/x-python",
   "name": "python",
   "nbconvert_exporter": "python",
   "pygments_lexer": "ipython3",
   "version": "3.13.5"
  }
 },
 "nbformat": 4,
 "nbformat_minor": 5
}
