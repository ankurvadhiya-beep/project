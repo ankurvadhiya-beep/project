{
 "cells": [
  {
   "cell_type": "code",
   "execution_count": 1,
   "id": "906db69e-ffc6-477d-8f09-e0e425d85bf4",
   "metadata": {},
   "outputs": [],
   "source": [
    "#code1\n"
   ]
  },
  {
   "cell_type": "code",
   "execution_count": 2,
   "id": "86c59aa9-9645-4e2d-8485-5d9d9cbd21fd",
   "metadata": {},
   "outputs": [
    {
     "name": "stdin",
     "output_type": "stream",
     "text": [
      "Enter a number:  11\n"
     ]
    },
    {
     "name": "stdout",
     "output_type": "stream",
     "text": [
      "The number is Odd.\n"
     ]
    }
   ],
   "source": [
    "num = int(input(\"Enter a number: \"))\n",
    "\n",
    "if num % 2 == 0:\n",
    "    print(\"The number is Even.\")\n",
    "else:\n",
    "    print(\"The number is Odd.\")\n",
    "    \n"
   ]
  },
  {
   "cell_type": "code",
   "execution_count": 3,
   "id": "1033f16a-030e-4d35-9f1c-62356958cf50",
   "metadata": {},
   "outputs": [],
   "source": [
    "#code\n"
   ]
  },
  {
   "cell_type": "code",
   "execution_count": 4,
   "id": "43b7a947-654e-4b7a-849c-b8cd08c43151",
   "metadata": {},
   "outputs": [
    {
     "name": "stdin",
     "output_type": "stream",
     "text": [
      "Enter your age:  19\n"
     ]
    },
    {
     "name": "stdout",
     "output_type": "stream",
     "text": [
      "Teenager\n"
     ]
    }
   ],
   "source": [
    "age = int(input(\"Enter your age: \"))\n",
    "\n",
    "if age >= 0:\n",
    "    if age <= 12:\n",
    "        print(\"Child\")\n",
    "    elif age <= 20:\n",
    "        print(\"Teenager\")\n",
    "    elif age <= 59:\n",
    "        print(\"Adult\")\n",
    "    else:\n",
    "        print(\"Senior\")\n",
    "else:\n",
    "    print(\"Invalid age\")"
   ]
  },
  {
   "cell_type": "code",
   "execution_count": 5,
   "id": "ea4e032c-d9b0-4b41-aaeb-37d82d62033d",
   "metadata": {},
   "outputs": [],
   "source": [
    "#code3"
   ]
  },
  {
   "cell_type": "code",
   "execution_count": 6,
   "id": "bce3af89-1413-4411-82c4-278141d52ce3",
   "metadata": {},
   "outputs": [
    {
     "name": "stdin",
     "output_type": "stream",
     "text": [
      "Enter first number:  11\n",
      "Enter second number:  23\n",
      "Enter third number:  33\n"
     ]
    },
    {
     "name": "stdout",
     "output_type": "stream",
     "text": [
      "The largest number is: 33\n"
     ]
    }
   ],
   "source": [
    "a = int(input(\"Enter first number: \"))\n",
    "b = int(input(\"Enter second number: \"))\n",
    "c = int(input(\"Enter third number: \"))\n",
    "\n",
    "if a >= b and a >= c:\n",
    "    print(\"The largest number is:\", a)\n",
    "elif b >= a and b >= c:\n",
    "    print(\"The largest number is:\", b)\n",
    "else:\n",
    "    print(\"The largest number is:\", c)"
   ]
  },
  {
   "cell_type": "code",
   "execution_count": 7,
   "id": "f185b4d6-cc17-490f-8465-39bf6008699c",
   "metadata": {},
   "outputs": [],
   "source": [
    "#code4"
   ]
  },
  {
   "cell_type": "code",
   "execution_count": null,
   "id": "2417539f-7a54-4648-a553-66073b04f40d",
   "metadata": {},
   "outputs": [],
   "source": []
  }
 ],
 "metadata": {
  "kernelspec": {
   "display_name": "Python [conda env:base] *",
   "language": "python",
   "name": "conda-base-py"
  },
  "language_info": {
   "codemirror_mode": {
    "name": "ipython",
    "version": 3
   },
   "file_extension": ".py",
   "mimetype": "text/x-python",
   "name": "python",
   "nbconvert_exporter": "python",
   "pygments_lexer": "ipython3",
   "version": "3.13.5"
  }
 },
 "nbformat": 4,
 "nbformat_minor": 5
}
