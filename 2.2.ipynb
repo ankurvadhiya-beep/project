{
 "cells": [
  {
   "cell_type": "code",
   "execution_count": null,
   "id": "f61e15a2-8a0c-4866-9df3-5ec8a0bd860a",
   "metadata": {},
   "outputs": [],
   "source": [
    "# code 1\n"
   ]
  },
  {
   "cell_type": "code",
   "execution_count": 1,
   "id": "ff19f8de-f1fd-4952-bc56-0ea6357a63e9",
   "metadata": {},
   "outputs": [
    {
     "name": "stdin",
     "output_type": "stream",
     "text": [
      "Enter a number:  4\n"
     ]
    },
    {
     "name": "stdout",
     "output_type": "stream",
     "text": [
      "The number is positive.\n"
     ]
    }
   ],
   "source": [
    "num = int(input(\"Enter a number: \"))\n",
    "\n",
    "if num > 0:\n",
    "    print(\"The number is positive.\")\n",
    "elif num < 0:\n",
    "    print(\"The number is negative.\")\n",
    "else:\n",
    "    print(\"The number is neutral (zero).\")"
   ]
  },
  {
   "cell_type": "code",
   "execution_count": null,
   "id": "b333a8be-2db7-46c3-8692-4b611a93f434",
   "metadata": {},
   "outputs": [],
   "source": []
  },
  {
   "cell_type": "code",
   "execution_count": null,
   "id": "cfc0aabb-b20f-44f2-8891-da12b103af02",
   "metadata": {},
   "outputs": [],
   "source": [
    "# code 2\n"
   ]
  },
  {
   "cell_type": "code",
   "execution_count": 3,
   "id": "fd619548-b9ae-4fe0-87eb-1736359c6528",
   "metadata": {},
   "outputs": [
    {
     "name": "stdin",
     "output_type": "stream",
     "text": [
      "Enter operator (+, -, *, /):  5\n",
      "Enter first number:  8\n",
      "Enter second number:  2\n"
     ]
    },
    {
     "name": "stdout",
     "output_type": "stream",
     "text": [
      "Invalid operator\n"
     ]
    }
   ],
   "source": [
    "\n",
    "operator = input(\"Enter operator (+, -, *, /): \")\n",
    "\n",
    "num1 = float(input(\"Enter first number: \"))\n",
    "num2 = float(input(\"Enter second number: \"))\n",
    "\n",
    "if operator == \"+\":\n",
    "    print(\"Result:\", num1 + num2)\n",
    "elif operator == \"-\":\n",
    "    print(\"Result:\", num1 - num2)\n",
    "elif operator == \"*\":\n",
    "    print(\"Result:\", num1 * num2)\n",
    "elif operator == \"/\":\n",
    "    if num2 != 0:\n",
    "        print(\"Result:\", num1 / num2)\n",
    "    else:\n",
    "        print(\"Cannot divide by zero\")\n",
    "else:\n",
    "    print(\"Invalid operator\")\n"
   ]
  },
  {
   "cell_type": "code",
   "execution_count": null,
   "id": "2adf0d2d-57db-4bdf-90ba-e4e83c6ec2db",
   "metadata": {},
   "outputs": [],
   "source": []
  },
  {
   "cell_type": "code",
   "execution_count": null,
   "id": "2114b7f7-4a74-4a82-93d1-fc608373420c",
   "metadata": {},
   "outputs": [],
   "source": [
    "# code 3\n"
   ]
  },
  {
   "cell_type": "code",
   "execution_count": 4,
   "id": "ee77fdea-7ee2-4ec2-821c-b0506dd4a0d2",
   "metadata": {},
   "outputs": [
    {
     "name": "stdout",
     "output_type": "stream",
     "text": [
      "Welcome to Fast Food Order System\n",
      "Press 1 to order a Sandwich\n",
      "Press 2 to order a Pizza\n",
      "Press 3 to order a Burger\n"
     ]
    },
    {
     "name": "stdin",
     "output_type": "stream",
     "text": [
      "Enter your choice:  3\n"
     ]
    },
    {
     "name": "stdout",
     "output_type": "stream",
     "text": [
      "You ordered a Burger.\n"
     ]
    }
   ],
   "source": [
    "print(\"Welcome to Fast Food Order System\")\n",
    "print(\"Press 1 to order a Sandwich\")\n",
    "print(\"Press 2 to order a Pizza\")\n",
    "print(\"Press 3 to order a Burger\")\n",
    "\n",
    "choice = int(input(\"Enter your choice: \"))\n",
    "\n",
    "match choice:\n",
    "    case 1:\n",
    "        print(\"You ordered a Sandwich.\")\n",
    "    case 2:\n",
    "        print(\"You ordered a Pizza.\")\n",
    "        print(\"Now choose Pizza Type:\")\n",
    "        print(\"Press 1 for Thin Crust Pizza\")\n",
    "        print(\"Press 2 for Cheese Burst Pizza\")\n",
    "        print(\"Press 3 for Fresh Dough Pizza\")\n",
    "\n",
    "        pizza_type = int(input(\"Enter pizza type: \"))\n",
    "\n",
    "        match pizza_type:\n",
    "            case 1:\n",
    "                print(\"You ordered Thin Crust Pizza.\")\n",
    "            case 2:\n",
    "                print(\"You ordered Cheese Burst Pizza.\")\n",
    "            case 3:\n",
    "                print(\"You ordered Fresh Dough Pizza.\")\n",
    "            case _:\n",
    "                print(\"Invalid pizza type.\")\n",
    "    case 3:\n",
    "        print(\"You ordered a Burger.\")\n",
    "    case _:\n",
    "        print(\"Invalid choice.\")\n"
   ]
  },
  {
   "cell_type": "code",
   "execution_count": null,
   "id": "9796367a-e6b4-4395-bd5a-3ec56814bab7",
   "metadata": {},
   "outputs": [],
   "source": []
  },
  {
   "cell_type": "code",
   "execution_count": null,
   "id": "3d330ddb-606d-449b-8be9-0a6699f985dc",
   "metadata": {},
   "outputs": [],
   "source": [
    "# code 4 \n"
   ]
  },
  {
   "cell_type": "code",
   "execution_count": null,
   "id": "7a833112-fc0b-4830-a065-d0d2c585f004",
   "metadata": {},
   "outputs": [],
   "source": [
    "# Telecom Calling System using match-case (English Only)\n",
    "\n",
    "print(\"Welcome to Telecom Calling System\")\n",
    "print(\"Press 1 for Balance Inquiry\")\n",
    "print(\"Press 2 for Data Pack\")\n",
    "print(\"Press 3 for Customer Care\")\n",
    "\n",
    "choice = int(input(\"Enter your choice: \"))\n",
    "\n",
    "match choice:\n",
    "    case 1:\n",
    "        print(\"You selected Balance Inquiry\")\n",
    "        print(\"Your balance is Rs. 120\")\n",
    "        \n",
    "    case 2:\n",
    "        print(\"You selected Data Pack\")\n",
    "        print(\"Press 1 for Daily Pack\")\n",
    "        print(\"Press 2 for Monthly Pack\")\n",
    "        sub_choice = int(input(\"Enter your option: \"))\n",
    "        \n",
    "        match sub_choice:\n",
    "            case 1:\n",
    "                print(\"You have a 1.5GB/day pack active\")\n",
    "            case 2:\n",
    "                print(\"You have a 2GB/month pack active\")\n",
    "            case _:\n",
    "                print(\"Invalid option in Data Pack menu\")\n",
    "\n",
    "    case 3:\n",
    "        print(\"You selected Customer Care\")\n",
    "        print(\"Connecting you to a customer care executive...\")\n",
    "        \n",
    "    case _:\n",
    "        print(\"Invalid choice! Please try again.\")\n"
   ]
  }
 ],
 "metadata": {
  "kernelspec": {
   "display_name": "Python [conda env:base] *",
   "language": "python",
   "name": "conda-base-py"
  },
  "language_info": {
   "codemirror_mode": {
    "name": "ipython",
    "version": 3
   },
   "file_extension": ".py",
   "mimetype": "text/x-python",
   "name": "python",
   "nbconvert_exporter": "python",
   "pygments_lexer": "ipython3",
   "version": "3.13.5"
  }
 },
 "nbformat": 4,
 "nbformat_minor": 5
}
