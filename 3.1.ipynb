{
 "cells": [
  {
   "cell_type": "code",
   "execution_count": 3,
   "id": "9082e4a3-b2d0-42df-825c-0c7321d591c4",
   "metadata": {},
   "outputs": [
    {
     "name": "stdin",
     "output_type": "stream",
     "text": [
      "Enter first name:  om\n",
      "Enter last name:  p\n"
     ]
    },
    {
     "name": "stdout",
     "output_type": "stream",
     "text": [
      "Hello, p, om!\n"
     ]
    }
   ],
   "source": [
    "# Q.1 \n",
    "first = input(\"Enter first name: \")\n",
    "last = input(\"Enter last name: \")\n",
    "print(f\"Hello, {last}, {first}!\")\n",
    "\n"
   ]
  },
  {
   "cell_type": "code",
   "execution_count": 4,
   "id": "93f1ba6c-a8a2-4af7-9b38-21b8dde6ed48",
   "metadata": {},
   "outputs": [
    {
     "name": "stdout",
     "output_type": "stream",
     "text": [
      "The price of apple is 5.5 dollars.\n"
     ]
    }
   ],
   "source": [
    "\n",
    "# Q.2 \n",
    "item = \"apple\"\n",
    "price = 5.50\n",
    "print(f\"The price of {item} is {price} dollars.\")"
   ]
  },
  {
   "cell_type": "code",
   "execution_count": 5,
   "id": "42fffd38-817b-45ab-8f0e-f84c33ebe168",
   "metadata": {},
   "outputs": [
    {
     "name": "stdin",
     "output_type": "stream",
     "text": [
      "Enter a string:  11\n"
     ]
    },
    {
     "name": "stdout",
     "output_type": "stream",
     "text": [
      "Reversed: 11\n",
      "Palindrome: True\n"
     ]
    }
   ],
   "source": [
    "# Q.3 \n",
    "text = input(\"Enter a string: \")\n",
    "print(\"Reversed:\", text[::-1])\n",
    "print(\"Palindrome:\", text == text[::-1])"
   ]
  },
  {
   "cell_type": "code",
   "execution_count": 6,
   "id": "f8c86bc2-f34e-45fc-96b0-cfda79db7e00",
   "metadata": {},
   "outputs": [
    {
     "name": "stdin",
     "output_type": "stream",
     "text": [
      "Enter a string:  2.2\n"
     ]
    },
    {
     "name": "stdout",
     "output_type": "stream",
     "text": [
      "Uppercase: 2.2\n",
      "Lowercase: 2.2\n",
      "Title Case: 2.2\n"
     ]
    }
   ],
   "source": [
    "# Q.4 \n",
    "user_text = input(\"Enter a string: \")\n",
    "print(\"Uppercase:\", user_text.upper())\n",
    "print(\"Lowercase:\", user_text.lower())\n",
    "print(\"Title Case:\", user_text.title())"
   ]
  },
  {
   "cell_type": "code",
   "execution_count": 7,
   "id": "2e572f42-9cc7-440b-8180-83eff25d54d9",
   "metadata": {},
   "outputs": [
    {
     "name": "stdout",
     "output_type": "stream",
     "text": [
      "Position of 'AI': 21\n",
      "Machine Learning and Artificial Intelligence are trending\n"
     ]
    }
   ],
   "source": [
    "# Q.5 \n",
    "sentence = \"Machine Learning and AI are trending\"\n",
    "print(\"Position of 'AI':\", sentence.find(\"AI\"))\n",
    "print(sentence.replace(\"AI\", \"Artificial Intelligence\"))\n"
   ]
  },
  {
   "cell_type": "code",
   "execution_count": 8,
   "id": "c0fba539-ad69-4ae8-8ad9-3f9b34bafc26",
   "metadata": {},
   "outputs": [
    {
     "name": "stdout",
     "output_type": "stream",
     "text": [
      "Fruit List: ['apple', 'banana', 'grapes']\n",
      "Joined Sentence: Python is awesome\n",
      "Line: Line1\n",
      "Line: Line2\n",
      "Line: Line3\n"
     ]
    }
   ],
   "source": [
    "# Q.6 S\n",
    "fruits = \"apple,banana,grapes\".split(\",\")\n",
    "print(\"Fruit List:\", fruits)\n",
    "\n",
    "words = [\"Python\", \"is\", \"awesome\"]\n",
    "print(\"Joined Sentence:\", \" \".join(words))\n",
    "\n",
    "multi_line = \"Line1\\nLine2\\nLine3\"\n",
    "for line in multi_line.splitlines():\n",
    "    print(\"Line:\", line)"
   ]
  },
  {
   "cell_type": "code",
   "execution_count": 9,
   "id": "228db9fa-2934-4ce4-88ff-922c86d8b89c",
   "metadata": {},
   "outputs": [
    {
     "name": "stdout",
     "output_type": "stream",
     "text": [
      "Starts with Hello and ends with World: True\n",
      "Cleaned String: DataScience\n",
      "Reversed 'Python': nohtyP\n"
     ]
    }
   ],
   "source": [
    "# Q.7 \n",
    "s = \"HelloWorld\"\n",
    "print(\"Starts with Hello and ends with World:\", s.startswith(\"Hello\") and s.endswith(\"World\"))\n",
    "\n",
    "import re\n",
    "cleaned = re.sub(r'[^A-Za-z]', '', \"Data123#Science!\")\n",
    "print(\"Cleaned String:\", cleaned)\n",
    "\n",
    "print(\"Reversed 'Python':\", \"Python\"[::-1])\n"
   ]
  }
 ],
 "metadata": {
  "kernelspec": {
   "display_name": "Python [conda env:base] *",
   "language": "python",
   "name": "conda-base-py"
  },
  "language_info": {
   "codemirror_mode": {
    "name": "ipython",
    "version": 3
   },
   "file_extension": ".py",
   "mimetype": "text/x-python",
   "name": "python",
   "nbconvert_exporter": "python",
   "pygments_lexer": "ipython3",
   "version": "3.13.5"
  }
 },
 "nbformat": 4,
 "nbformat_minor": 5
}
