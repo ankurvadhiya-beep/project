{
 "cells": [
  {
   "cell_type": "code",
   "execution_count": 1,
   "id": "31845330-1a36-4869-b259-121c07318f1a",
   "metadata": {},
   "outputs": [
    {
     "name": "stdout",
     "output_type": "stream",
     "text": [
      "Student Names:\n",
      "Alice\n",
      "Bob\n",
      "Charlie\n",
      "\n",
      "Average Score: 85.0\n",
      "\n",
      "Students with score > 80:\n",
      "Alice\n",
      "Bob\n",
      "David\n",
      "\n",
      "Topper: Bob with score 88\n",
      "\n",
      "Student Report:\n",
      "Name: Bob | Score: 88 | Grade: B\n",
      "Name: David | Score: 88 | Grade: B\n",
      "Name: Alice | Score: 85 | Grade: B\n",
      "\n",
      "Grade Counts: {'B': 3}\n",
      "\n",
      "Data exported to students.csv\n",
      "\n",
      "Stats from CSV:\n",
      "Mean: 87.0\n",
      "Min: 85\n",
      "Max: 88\n"
     ]
    }
   ],
   "source": [
    "#1\n",
    "import pandas as pd\n",
    "\n",
    "students = [\n",
    "    {\"id\": 101, \"name\": \"Alice\", \"score\": 85},\n",
    "    {\"id\": 102, \"name\": \"Bob\", \"score\": 78},\n",
    "    {\"id\": 103, \"name\": \"Charlie\", \"score\": 92}\n",
    "]\n",
    "print(\"Student Names:\")\n",
    "for s in students:\n",
    "    print(s[\"name\"])\n",
    "avg = sum(s[\"score\"] for s in students) / len(students)\n",
    "print(\"\\nAverage Score:\", avg)\n",
    "students.append({\"id\": 104, \"name\": \"David\", \"score\": 88})\n",
    "\n",
    "for s in students:\n",
    "    if s[\"id\"] == 102:\n",
    "        s[\"score\"] = 88\n",
    "students = [s for s in students if s[\"name\"] != \"Charlie\"]\n",
    "\n",
    "print(\"\\nStudents with score > 80:\")\n",
    "for s in students:\n",
    "    if s[\"score\"] > 80:\n",
    "        print(s[\"name\"])\n",
    "\n",
    "students = sorted(students, key=lambda x: x[\"score\"], reverse=True)\n",
    "\n",
    "topper = max(students, key=lambda x: x[\"score\"])\n",
    "print(\"\\nTopper:\", topper[\"name\"], \"with score\", topper[\"score\"])\n",
    "print(\"\\nStudent Report:\")\n",
    "for s in students:\n",
    "    if s[\"score\"] >= 90:\n",
    "        grade = \"A\"\n",
    "    elif s[\"score\"] >= 80:\n",
    "        grade = \"B\"\n",
    "    else:\n",
    "        grade = \"C\"\n",
    "    print(f\"Name: {s['name']} | Score: {s['score']} | Grade: {grade}\")\n",
    "    s[\"grade\"] = grade\n",
    "grade_count = {}\n",
    "for s in students:\n",
    "    grade_count[s[\"grade\"]] = grade_count.get(s[\"grade\"], 0) + 1\n",
    "print(\"\\nGrade Counts:\", grade_count)\n",
    "df = pd.DataFrame(students)\n",
    "df.to_csv(\"students.csv\", index=False)\n",
    "print(\"\\nData exported to students.csv\")\n",
    "\n",
    "df2 = pd.read_csv(\"students.csv\")\n",
    "print(\"\\nStats from CSV:\")\n",
    "print(\"Mean:\", df2[\"score\"].mean())\n",
    "print(\"Min:\", df2[\"score\"].min())\n",
    "print(\"Max:\", df2[\"score\"].max())\n"
   ]
  },
  {
   "cell_type": "code",
   "execution_count": null,
   "id": "c867ddc9-aee6-4951-b7c7-d74537e7083f",
   "metadata": {},
   "outputs": [],
   "source": []
  }
 ],
 "metadata": {
  "kernelspec": {
   "display_name": "Python [conda env:base] *",
   "language": "python",
   "name": "conda-base-py"
  },
  "language_info": {
   "codemirror_mode": {
    "name": "ipython",
    "version": 3
   },
   "file_extension": ".py",
   "mimetype": "text/x-python",
   "name": "python",
   "nbconvert_exporter": "python",
   "pygments_lexer": "ipython3",
   "version": "3.13.5"
  }
 },
 "nbformat": 4,
 "nbformat_minor": 5
}
