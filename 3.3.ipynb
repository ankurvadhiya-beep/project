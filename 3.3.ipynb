{
 "cells": [
  {
   "cell_type": "code",
   "execution_count": 1,
   "id": "3d7936ad-73d4-4ad1-8ef4-ac9f95734b0e",
   "metadata": {},
   "outputs": [
    {
     "name": "stdout",
     "output_type": "stream",
     "text": [
      "True\n",
      "{1, 2, 4, 5, 6}\n"
     ]
    }
   ],
   "source": [
    "#1\n",
    "numbers = {1, 2, 3, 4, 5}\n",
    "numbers.add(6)\n",
    "numbers.remove(3)\n",
    "print(2 in numbers)\n",
    "print(numbers)\n"
   ]
  },
  {
   "cell_type": "code",
   "execution_count": 2,
   "id": "fa359587-15a8-476f-8971-e5f54f856055",
   "metadata": {},
   "outputs": [
    {
     "name": "stdout",
     "output_type": "stream",
     "text": [
      "Union: {1, 2, 3, 4, 5, 6}\n",
      "Intersection: {3, 4}\n",
      "Difference: {1, 2}\n"
     ]
    }
   ],
   "source": [
    "#2\n",
    "set_a = {1, 2, 3, 4}\n",
    "set_b = {3, 4, 5, 6}\n",
    "\n",
    "print(\"Union:\", set_a | set_b)\n",
    "print(\"Intersection:\", set_a & set_b)\n",
    "print(\"Difference:\", set_a - set_b)"
   ]
  },
  {
   "cell_type": "code",
   "execution_count": 3,
   "id": "975026e1-0bdf-4548-a7b6-e585ef2e652c",
   "metadata": {},
   "outputs": [
    {
     "name": "stdout",
     "output_type": "stream",
     "text": [
      "dict_keys(['name', 'age', 'grade'])\n",
      "dict_values(['Alice', 20, 'A'])\n",
      "{'name': 'Alice', 'age': 21, 'city': 'Delhi'}\n"
     ]
    }
   ],
   "source": [
    "#3\n",
    "student = {\"name\": \"Alice\", \"age\": 20, \"grade\": \"A\"}\n",
    "print(student.keys())\n",
    "print(student.values())\n",
    "\n",
    "student[\"city\"] = \"Delhi\"\n",
    "student[\"age\"] = 21\n",
    "del student[\"grade\"]\n",
    "\n",
    "print(student)\n"
   ]
  },
  {
   "cell_type": "code",
   "execution_count": 4,
   "id": "567422bb-dbd0-4800-a70a-a6200d367072",
   "metadata": {},
   "outputs": [
    {
     "name": "stdout",
     "output_type": "stream",
     "text": [
      "{'id': 101, 'name': 'Bob', 'email': 'bob@example.com'}\n"
     ]
    }
   ],
   "source": [
    "#4\n",
    "keys = ['id', 'name', 'email']\n",
    "values = [101, 'Bob', 'bob@example.com']\n",
    "\n",
    "my_dict = dict(zip(keys, values))\n",
    "print(my_dict)\n"
   ]
  },
  {
   "cell_type": "code",
   "execution_count": 5,
   "id": "196736f8-9c09-4c79-a48a-1c9781478fc1",
   "metadata": {},
   "outputs": [
    {
     "name": "stdout",
     "output_type": "stream",
     "text": [
      "123\n",
      "(1, 2, 3)\n",
      "[4, 5, 6]\n",
      "{1: 'A', 2: 'B'}\n"
     ]
    }
   ],
   "source": [
    "#5\n",
    "print(int(\"123\"))\n",
    "print(tuple([1, 2, 3]))\n",
    "print(list((4, 5, 6)))\n",
    "print(dict([(1, 'A'), (2, 'B')]))\n"
   ]
  },
  {
   "cell_type": "code",
   "execution_count": 6,
   "id": "b2a12920-b8f3-419b-84a0-93c7595f98c8",
   "metadata": {},
   "outputs": [
    {
     "name": "stdout",
     "output_type": "stream",
     "text": [
      "['apple', 'cherry']\n"
     ]
    }
   ],
   "source": [
    "#6\n",
    "fruits = [\"apple\", \"banana\", \"cherry\"]\n",
    "del fruits[1]\n",
    "print(fruits)"
   ]
  },
  {
   "cell_type": "code",
   "execution_count": null,
   "id": "240530cd-44bb-491a-96ac-d012e6559f64",
   "metadata": {},
   "outputs": [],
   "source": []
  }
 ],
 "metadata": {
  "kernelspec": {
   "display_name": "Python [conda env:base] *",
   "language": "python",
   "name": "conda-base-py"
  },
  "language_info": {
   "codemirror_mode": {
    "name": "ipython",
    "version": 3
   },
   "file_extension": ".py",
   "mimetype": "text/x-python",
   "name": "python",
   "nbconvert_exporter": "python",
   "pygments_lexer": "ipython3",
   "version": "3.13.5"
  }
 },
 "nbformat": 4,
 "nbformat_minor": 5
}
