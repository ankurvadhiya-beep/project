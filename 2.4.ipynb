{
 "cells": [
  {
   "cell_type": "code",
   "execution_count": 1,
   "id": "c57ba23a-2088-4735-8811-eb89ee8f3bfa",
   "metadata": {},
   "outputs": [
    {
     "name": "stdout",
     "output_type": "stream",
     "text": [
      "1\n",
      "2\n",
      "3\n",
      "5\n",
      "6\n",
      "7\n",
      "9\n",
      "10\n",
      "11\n",
      "13\n",
      "14\n",
      "15\n",
      "17\n",
      "18\n",
      "19\n"
     ]
    }
   ],
   "source": [
    "# Q.1\n",
    "for i in range(1, 21):\n",
    "    if i % 4 == 0:\n",
    "        continue\n",
    "    print(i)"
   ]
  },
  {
   "cell_type": "code",
   "execution_count": 2,
   "id": "0cdc5a6e-5304-4096-a408-84abef44c9ee",
   "metadata": {},
   "outputs": [
    {
     "name": "stdout",
     "output_type": "stream",
     "text": [
      "1\n",
      "2\n",
      "3\n",
      "4\n",
      "5\n",
      "6\n"
     ]
    }
   ],
   "source": [
    "# Q.2\n",
    "i = 1\n",
    "while i <= 10:\n",
    "    if i == 7:\n",
    "        break\n",
    "    print(i)\n",
    "    i += 1"
   ]
  },
  {
   "cell_type": "code",
   "execution_count": 3,
   "id": "4aba6653-48d4-4557-8e10-cf00c355fed2",
   "metadata": {},
   "outputs": [
    {
     "name": "stdout",
     "output_type": "stream",
     "text": [
      "P\n",
      "Y\n",
      "T\n",
      "H\n",
      "N\n"
     ]
    }
   ],
   "source": [
    "# Q.3\n",
    "s = \"PYTHON\"\n",
    "for ch in s:\n",
    "    if ch in \"AEIOU\":\n",
    "        continue\n",
    "    print(ch)"
   ]
  },
  {
   "cell_type": "code",
   "execution_count": 4,
   "id": "395c9341-0e6f-4641-81fa-c6d911d2327e",
   "metadata": {},
   "outputs": [
    {
     "name": "stdin",
     "output_type": "stream",
     "text": [
      "Enter N:  4\n"
     ]
    },
    {
     "name": "stdout",
     "output_type": "stream",
     "text": [
      "1 x 1 = 1\n",
      "1 x 2 = 2\n",
      "1 x 3 = 3\n",
      "1 x 4 = 4\n",
      "\n",
      "2 x 1 = 2\n",
      "2 x 2 = 4\n",
      "2 x 3 = 6\n",
      "2 x 4 = 8\n",
      "\n",
      "3 x 1 = 3\n",
      "3 x 2 = 6\n",
      "3 x 3 = 9\n",
      "3 x 4 = 12\n",
      "\n",
      "4 x 1 = 4\n",
      "4 x 2 = 8\n",
      "4 x 3 = 12\n",
      "4 x 4 = 16\n",
      "\n"
     ]
    }
   ],
   "source": [
    "# Q.4\n",
    "N = int(input(\"Enter N: \"))\n",
    "for i in range(1, N+1):\n",
    "    for j in range(1, N+1):\n",
    "        print(f\"{i} x {j} = {i*j}\")\n",
    "    print()"
   ]
  },
  {
   "cell_type": "code",
   "execution_count": 5,
   "id": "cd4fc7be-e738-4001-85c9-30f7ce937f4e",
   "metadata": {},
   "outputs": [
    {
     "name": "stdout",
     "output_type": "stream",
     "text": [
      "1 \n",
      "1 2 \n",
      "1 2 3 \n",
      "1 2 3 4 \n",
      "1 2 3 4 5 \n"
     ]
    }
   ],
   "source": [
    "# Q.5\n",
    "for i in range(1, 6):\n",
    "    for j in range(1, i+1):\n",
    "        print(j, end=\" \")\n",
    "    print()"
   ]
  },
  {
   "cell_type": "code",
   "execution_count": 1,
   "id": "6e387faf-1e47-44bf-a60e-dffbb9753bc0",
   "metadata": {},
   "outputs": [
    {
     "name": "stdout",
     "output_type": "stream",
     "text": [
      "10\n",
      "9\n",
      "8\n",
      "7\n",
      "6\n",
      "5\n",
      "4\n",
      "3\n",
      "2\n",
      "1\n"
     ]
    }
   ],
   "source": [
    "# Q.6 \n",
    "for i in range(10, 0, -1):\n",
    "    print(i)\n"
   ]
  },
  {
   "cell_type": "code",
   "execution_count": 2,
   "id": "3f6f6a82-2d2c-4182-854c-bdfbb5fdcb1b",
   "metadata": {},
   "outputs": [
    {
     "name": "stdout",
     "output_type": "stream",
     "text": [
      "1\n",
      "2 Divisible by 2\n",
      "3 Divisible by 3\n",
      "4 Divisible by 2\n",
      "5\n",
      "6 Divisible by both\n",
      "7\n",
      "8 Divisible by 2\n",
      "9 Divisible by 3\n",
      "10 Divisible by 2\n",
      "11\n",
      "12 Divisible by both\n",
      "13\n",
      "14 Divisible by 2\n",
      "15 Divisible by 3\n",
      "16 Divisible by 2\n",
      "17\n",
      "18 Divisible by both\n",
      "19\n",
      "20 Divisible by 2\n",
      "21 Divisible by 3\n",
      "22 Divisible by 2\n",
      "23\n",
      "24 Divisible by both\n",
      "25\n",
      "26 Divisible by 2\n",
      "27 Divisible by 3\n",
      "28 Divisible by 2\n",
      "29\n",
      "30 Divisible by both\n",
      "31\n",
      "32 Divisible by 2\n",
      "33 Divisible by 3\n",
      "34 Divisible by 2\n",
      "35\n",
      "36 Divisible by both\n",
      "37\n",
      "38 Divisible by 2\n",
      "39 Divisible by 3\n",
      "40 Divisible by 2\n",
      "41\n",
      "42 Divisible by both\n",
      "43\n",
      "44 Divisible by 2\n",
      "45 Divisible by 3\n",
      "46 Divisible by 2\n",
      "47\n",
      "48 Divisible by both\n",
      "49\n",
      "50 Divisible by 2\n"
     ]
    }
   ],
   "source": [
    "# Q.7 \n",
    "for i in range(1, 51):\n",
    "    if i % 2 == 0 and i % 3 == 0:\n",
    "        print(i, \"Divisible by both\")\n",
    "    elif i % 2 == 0:\n",
    "        print(i, \"Divisible by 2\")\n",
    "    elif i % 3 == 0:\n",
    "        print(i, \"Divisible by 3\")\n",
    "    else:\n",
    "        print(i)\n"
   ]
  },
  {
   "cell_type": "code",
   "execution_count": null,
   "id": "c64a9cfd-b1e7-4c00-94ae-f796cf19f35b",
   "metadata": {},
   "outputs": [],
   "source": []
  }
 ],
 "metadata": {
  "kernelspec": {
   "display_name": "Python [conda env:base] *",
   "language": "python",
   "name": "conda-base-py"
  },
  "language_info": {
   "codemirror_mode": {
    "name": "ipython",
    "version": 3
   },
   "file_extension": ".py",
   "mimetype": "text/x-python",
   "name": "python",
   "nbconvert_exporter": "python",
   "pygments_lexer": "ipython3",
   "version": "3.13.5"
  }
 },
 "nbformat": 4,
 "nbformat_minor": 5
}
